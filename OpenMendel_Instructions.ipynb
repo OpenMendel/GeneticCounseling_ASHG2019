{
 "cells": [
  {
   "cell_type": "markdown",
   "metadata": {},
   "source": [
    "# MendelGeneticCounseling ASHG Pre Workshop Installation and Checks\n",
    "\n",
    "### last update: September 18 2019, 4:09pm\n",
    "\n",
    "As of the time of the last update to this tutorial, `Open Mendel` supports Julia versions 1.0, 1.1 and 1.2, but it is currently an unregistered package.\n",
    "\n",
    "## Download files \n",
    "Download the datasets BRCA, Cholesterol and SmallSample from https://github.com/OpenMendel/GeneticCounseling_ASHG2019\n",
    "\n",
    "### How to execute commands in the Jupyter notebook:'\n",
    "\n",
    "To execute a notebook command, hold down`Shift Enter` within the box.  This tutorial and corresponding modules have been checked with Julia versions 1.0, 1.1 and 1.2.\n",
    "\n",
    "\n",
    "For convenience, have this notebook (OpenMendel_Instructions.ipynb) in the directory SmallSample.  \n",
    "\n",
    "### NOTE: When Finished with this notebook. Go to the File tab and first select save and checkpoint to save your results. Then under the file tab, select close and halt to prevent copies of Jupyter notebook from running indefinitely in the background. "
   ]
  },
  {
   "cell_type": "markdown",
   "metadata": {},
   "source": [
    " To install, press `]` to invoke the package manager mode and install these packages by typing:\n",
    "\n",
    "```\n",
    "add https://github.com/OpenMendel/SnpArrays.jl\n",
    "add https://github.com/OpenMendel/MendelSearch.jl\n",
    "add https://github.com/OpenMendel/MendelBase.jl\n",
    "add https://github.com/OpenMendel/MendelGeneticCounseling.jl#ASHG2019\n",
    "build SpecialFunctions\n",
    "\n",
    "```"
   ]
  },
  {
   "cell_type": "code",
   "execution_count": null,
   "metadata": {},
   "outputs": [],
   "source": []
  },
  {
   "cell_type": "markdown",
   "metadata": {},
   "source": [
    "## Check Julia version:\n",
    "For reproducibility, check the machine information below. \n",
    "  Please report any issues running this notebook or the module to Janet Sinsheimer PhD. (jsinshei@g.ucla.edu)."
   ]
  },
  {
   "cell_type": "code",
   "execution_count": null,
   "metadata": {
    "scrolled": true
   },
   "outputs": [],
   "source": [
    "versioninfo()"
   ]
  },
  {
   "cell_type": "markdown",
   "metadata": {},
   "source": [
    "It is a good idea update all packages before running any analyses"
   ]
  },
  {
   "cell_type": "code",
   "execution_count": null,
   "metadata": {},
   "outputs": [],
   "source": [
    "] update"
   ]
  },
  {
   "cell_type": "markdown",
   "metadata": {},
   "source": [
    "# Run a simple analysis to determine if MendelGeneticCounseling has been correctly installed.\n",
    "\n",
    "We will now show how to set up the specific files and the options available as well as how to interpret the results during the workshop so we won't go over that information here.  \n",
    "\n",
    "Instead we will run a classic example of determining the risk of a fully penetrant disease for an individual just to make sure you can run the Open Mendel during the workshop. Make certain necessary files are available. You can invoke a shell on the mac using \";\" and then typing the appropriate shell command but you can also use Julia commands. "
   ]
  },
  {
   "cell_type": "code",
   "execution_count": null,
   "metadata": {},
   "outputs": [],
   "source": [
    "# Verify that you are in the appropriate directory\n",
    "# ; pwd\n",
    "pwd()"
   ]
  },
  {
   "cell_type": "markdown",
   "metadata": {},
   "source": [
    "The files required for our test are PedSmall.csv, PhenoSmall.txt, LocusSmall.txt, and ControlSmallParametric.txt. If they aren't in your current directory, either move to the directory where the files are located or copy your files into the current working diretory. "
   ]
  },
  {
   "cell_type": "markdown",
   "metadata": {},
   "source": [
    "If you need to change to another directory you can using the cd() command within Julia"
   ]
  },
  {
   "cell_type": "code",
   "execution_count": null,
   "metadata": {},
   "outputs": [],
   "source": [
    "# on PC use \"\\\\\" instead of \"\\\" e.g. \n",
    "# cd(\"C:\\\\Users\\\\Janet Sinsheimer\\\\Documents\\\\Julia_files\\\\GeneticCounseling_ASHG2019-master\")\n",
    "# on Mac, the equivalent command is:\n",
    "cd(\"/Users/janets/Documents/lap_top_janet/janet/short_courses_2019/ASHGproposal/GeneticCounseling_ASHG2019-master\")"
   ]
  },
  {
   "cell_type": "markdown",
   "metadata": {},
   "source": [
    "If you needed to change directories, verify that you are indeed in the right directory using pwd() and readdir()"
   ]
  },
  {
   "cell_type": "code",
   "execution_count": null,
   "metadata": {},
   "outputs": [],
   "source": [
    "pwd()"
   ]
  },
  {
   "cell_type": "code",
   "execution_count": null,
   "metadata": {},
   "outputs": [],
   "source": [
    "readdir()"
   ]
  },
  {
   "cell_type": "markdown",
   "metadata": {},
   "source": [
    "Now you can test the installation by running MendelGeneticCounseling. First load the module"
   ]
  },
  {
   "cell_type": "code",
   "execution_count": null,
   "metadata": {},
   "outputs": [],
   "source": [
    "using MendelGeneticCounseling"
   ]
  },
  {
   "cell_type": "markdown",
   "metadata": {},
   "source": [
    "Now run the sample files"
   ]
  },
  {
   "cell_type": "code",
   "execution_count": null,
   "metadata": {
    "scrolled": true
   },
   "outputs": [],
   "source": [
    "GeneticCounseling(\"ControlSmallParametric.txt\")"
   ]
  },
  {
   "cell_type": "markdown",
   "metadata": {},
   "source": [
    "###  Results\n",
    "You should get a file with the results as well as seeing results displayed above. The correct answer is `0.03892`.  If you fail to get this answer, don't get any output, or get error messages, please contact Janet Sinsheimer at jsinshei@g.ucla.edu. \n",
    " "
   ]
  },
  {
   "cell_type": "markdown",
   "metadata": {},
   "source": [
    "### NOTE: When Finished with this notebook. Go to the File tab and first select save and checkpoint to save your results. Then under the file tab, select close and halt to prevent copies of Jupyter notebook from running indefinitely in the background"
   ]
  }
 ],
 "metadata": {
  "@webio": {
   "lastCommId": null,
   "lastKernelId": null
  },
  "kernelspec": {
   "display_name": "Julia 1.2.0",
   "language": "julia",
   "name": "julia-1.2"
  },
  "language_info": {
   "file_extension": ".jl",
   "mimetype": "application/julia",
   "name": "julia",
   "version": "1.2.0"
  }
 },
 "nbformat": 4,
 "nbformat_minor": 2
}
